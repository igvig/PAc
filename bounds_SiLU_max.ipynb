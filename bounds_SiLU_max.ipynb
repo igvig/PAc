{
  "cells": [
    {
      "cell_type": "code",
      "execution_count": 1,
      "metadata": {},
      "outputs": [],
      "source": [
        "from PAc_optimal_bounds import *"
      ]
    },
    {
      "cell_type": "code",
      "execution_count": 2,
      "metadata": {
        "colab": {
          "base_uri": "https://localhost:8080/"
        },
        "id": "077s0Z23Wq6l",
        "outputId": "96615dd1-d4ac-40d4-ea0f-b1baf571160a"
      },
      "outputs": [],
      "source": [
        "import sys, os\n",
        "\n",
        "def get_env_type() -> str:\n",
        "    '''\n",
        "    Get the environment type where the code is running.\n",
        "\n",
        "    Returns:\n",
        "    - 'kaggle' if running on Kaggle\n",
        "    - 'google.colab' if running on Google Colab\n",
        "    - 'local' if running on local environment\n",
        "    '''\n",
        "    if 'KAGGLE_KERNEL_RUN_TYPE' in os.environ:\n",
        "        return 'kaggle'\n",
        "    elif 'google.colab' in sys.modules:\n",
        "        if 'COLAB_TPU_ADDR' in os.environ:  # Google Colab w/ TPU\n",
        "            # Connect to TPU\n",
        "            import tensorflow\n",
        "            tpu = tensorflow.distribute.cluster_resolver.TPUClusterResolver()\n",
        "            tensorflow.config.experimental_connect_to_cluster(tpu)\n",
        "            tensorflow.tpu.experimental.initialize_tpu_system(tpu)\n",
        "        # Connect to Drive\n",
        "        from google.colab import drive\n",
        "        drive.mount('/content/drive')\n",
        "\n",
        "        # load the custom PAc Optimal Bounds module\n",
        "        %cd \"/content/drive/MyDrive/Colab Notebooks/PAc\"\n",
        "\n",
        "        return 'google.colab'\n",
        "    else:   # Running on local environment\n",
        "\n",
        "        # load the custom PAc Optimal Bounds module\n",
        "        %cd \"C:/Users/igorv/OneDrive/DL/PAc\"\n",
        "\n",
        "        return 'local'\n"
      ]
    },
    {
      "cell_type": "code",
      "execution_count": 3,
      "metadata": {
        "colab": {
          "base_uri": "https://localhost:8080/"
        },
        "id": "LisFm8yQT-u4",
        "outputId": "3d7cb936-79d7-4bc5-8a0f-2cb22e604ab6"
      },
      "outputs": [
        {
          "name": "stdout",
          "output_type": "stream",
          "text": [
            "Python: 3.11.5\n",
            "TensorFlow: 2.16.1\n",
            "Keras: 3.1.1\n",
            "Scikit-learn: 1.2.2\n",
            "C:\\Users\\igorv\\OneDrive\\DL\\PAc\n",
            "C:\\Users\\igorv\\OneDrive\\DL\\PAc\n",
            "Running on local\n"
          ]
        }
      ],
      "source": [
        "print_versions_and_GPU()\n",
        "\n",
        "match get_env_type():\n",
        "    case 'kaggle':\n",
        "        raise ValueError('This notebook is not designed to run on Kaggle.')\n",
        "    case 'google.colab':\n",
        "        data_path = '/content/drive/MyDrive/data/PAc/bounds/'\n",
        "    case 'local':\n",
        "        data_path = \"C:/Users/igorv/OneDrive/DL/PAc/\"\n",
        "    case _:\n",
        "        raise ValueError(f'Unknown environment type: {get_env_type()}')\n",
        "\n",
        "print(f'Running on {get_env_type()}')"
      ]
    },
    {
      "cell_type": "code",
      "execution_count": 4,
      "metadata": {
        "id": "v_F18zt1NHqL"
      },
      "outputs": [],
      "source": [
        "import tensorflow as tf\n",
        "\n",
        "approx_silu = PAc_Approximator(\n",
        "    func=lambda x: tf.nn.silu(x).numpy(),\n",
        "    func_low=lambda x: 0,\n",
        "    func_high=lambda x: x)\n"
      ]
    },
    {
      "cell_type": "code",
      "execution_count": 6,
      "metadata": {
        "colab": {
          "base_uri": "https://localhost:8080/"
        },
        "id": "OR2reSx8NHqM",
        "outputId": "7ebac10a-c3bc-4352-d6af-7c8daa91c36b"
      },
      "outputs": [
        {
          "name": "stdout",
          "output_type": "stream",
          "text": [
            "2024-06-03 16:58:20.121004 Starting silu_emax_16, 5 runs\n",
            "2024-06-03 16:58:20.126999 Starting optimization 1000 2.78464e-01 ...2.59251e-01 .2.01238e-01 .................1.89317e-01 ........................1.85445e-01 ......1.83420e-01 ..............1.82712e-01 ........1.81841e-01 ................1.81727e-01 ............................. - Early stopping: 0.18172677040098995 @ [-2.7001852   2.58714494]\n",
            "2024-06-03 16:58:38.378355 Starting optimization 1000 3.22322e-01 2.96196e-01 ..2.78464e-01 2.64679e-01 .2.34491e-01 ..2.28152e-01 .......2.18094e-01 ............2.14099e-01 2.09203e-01 ..................2.00538e-01 ............................. - Early stopping: 0.20053840876739448 @ [-2.52123248  3.31614613]\n",
            "2024-06-03 16:58:50.119128 Starting optimization 1000 3.56847e-01 ..3.04345e-01 2.78464e-01 2.29103e-01 ..2.20513e-01 ......2.02609e-01 .....1.94922e-01 ..................1.85684e-01 .........1.83466e-01 ......1.82705e-01 .....1.82268e-01 .......1.81480e-01 .....................1.81406e-01 .............1.81386e-01 1.81342e-01 ........1.81294e-01 ............................. - Early stopping: 0.1812941016717624 @ [-2.5852992  2.6933693]\n",
            "2024-06-03 16:59:11.579064 Starting optimization 1000 3.85787e-01 ..3.82389e-01 3.37809e-01 .2.70777e-01 .2.32242e-01 ..2.29584e-01 ................2.05968e-01 ...1.95476e-01 .............1.92631e-01 ..............1.86668e-01 ..1.80650e-01 .........1.80173e-01 ............................. - Early stopping: 0.18017270524626872 @ [-2.61325079  2.62945767]\n",
            "2024-06-03 16:59:26.563423 Starting optimization 1000 2.78464e-01 2.10828e-01 ..........2.05602e-01 ..........2.03095e-01 1.91635e-01 .......1.91190e-01 ........1.90250e-01 .......1.82007e-01 .............1.81060e-01 .................1.80356e-01 ............................. - Early stopping: 0.18035612504902615 @ [-2.59393085  2.64600969]\n",
            "2024-06-03 16:59:42.296410 Starting silu_emax_32, 5 runs\n",
            "2024-06-03 16:59:42.313509 Starting optimization 1000 2.30723e-01 ...2.04425e-01 1.62198e-01 1.24209e-01 ..............1.21050e-01 ................1.18926e-01 ..1.18473e-01 ....1.17630e-01 .......1.17385e-01 1.16266e-01 ...............1.15840e-01 ..............1.15337e-01 .....1.15072e-01 ..................1.15000e-01 .......1.14912e-01 ...1.14837e-01 .."
          ]
        }
      ],
      "source": [
        "for sz in [16, 32, 64, 128, 256, 512, 1024, 2048, 4096]:\n",
        "    multi_opt_max_runner(data_path, f'silu_emax_{sz}', approx_silu.approx_max_e_swarm, approx_silu, n=sz, num_runs=5, max_iter=1000, sig_digits=4, patience=30)"
      ]
    },
    {
      "cell_type": "code",
      "execution_count": null,
      "metadata": {
        "colab": {
          "base_uri": "https://localhost:8080/"
        },
        "id": "5LVwaAByNHqM",
        "outputId": "b4ea68aa-59dd-4794-e843-3219d319288b"
      },
      "outputs": [],
      "source": [
        "engine = PSOEngine2D()\n",
        "engine.optimize(approx_silu.approx_max_e_swarm, max_iter=1000, sig_digits=5, patience=50, n=256)"
      ]
    },
    {
      "cell_type": "code",
      "execution_count": null,
      "metadata": {
        "colab": {
          "base_uri": "https://localhost:8080/",
          "height": 735
        },
        "id": "7sSIsURNNHqM",
        "outputId": "d18c3ef8-3eb1-4adc-f224-38db15684d7e"
      },
      "outputs": [],
      "source": [
        "from pyswarms.utils.plotters import plot_cost_history, plot_contour, plot_surface\n",
        "import matplotlib.pyplot as plt\n",
        "\n",
        "plot_cost_history(cost_history=engine.optimizer.cost_history)"
      ]
    },
    {
      "cell_type": "code",
      "execution_count": null,
      "metadata": {
        "id": "V9OfBc8TNHqM"
      },
      "outputs": [],
      "source": [
        "best_x_min, best_x_max = engine.best_pos[0], engine.best_pos[1]\n"
      ]
    },
    {
      "cell_type": "code",
      "execution_count": null,
      "metadata": {
        "colab": {
          "base_uri": "https://localhost:8080/"
        },
        "id": "cJVcy18SNHqM",
        "outputId": "8b4dcfbe-8ba9-491e-cfdd-57c0cde42af6"
      },
      "outputs": [],
      "source": [
        "plot_silu_256_10_10 = Error3D(data_path, \"silu_emax_256_10_10\", \"PAc-SiLU (256)\", best_x_min, best_x_max, approx_silu, 256, -10., 0., 0., 10., 50)"
      ]
    },
    {
      "cell_type": "code",
      "execution_count": null,
      "metadata": {
        "colab": {
          "base_uri": "https://localhost:8080/",
          "height": 1000
        },
        "id": "8t1mx8ZYNHqN",
        "outputId": "3e1ddb7c-023c-432f-c9ad-d318eb1cdb4a"
      },
      "outputs": [],
      "source": [
        "plot_silu_256_10_10.plot_combined_error()\n",
        "plot_silu_256_10_10.plot_max_error()\n",
        "plot_silu_256_10_10.plot_auc()"
      ]
    },
    {
      "cell_type": "code",
      "execution_count": null,
      "metadata": {
        "colab": {
          "base_uri": "https://localhost:8080/"
        },
        "id": "PVvjIkmXNHqN",
        "outputId": "1fa1c9dc-d7f2-44a7-9b10-487345d1f9f9"
      },
      "outputs": [],
      "source": [
        "plot_silu_256_2_2 = Error3D(data_path, \"silu_emax_256_2_2\", \"PAc-SiLU (256)\", best_x_min, best_x_max, approx_silu, 256, -6.5, -4.5, 4.5, 6.5, 50)"
      ]
    },
    {
      "cell_type": "code",
      "execution_count": null,
      "metadata": {
        "colab": {
          "base_uri": "https://localhost:8080/",
          "height": 1000
        },
        "id": "vs_ghdDcNHqN",
        "outputId": "741bd81a-99cd-4639-c450-0d41bd10304d"
      },
      "outputs": [],
      "source": [
        "plot_silu_256_2_2.plot_combined_error()\n",
        "plot_silu_256_2_2.plot_max_error()\n",
        "plot_silu_256_2_2.plot_auc()"
      ]
    },
    {
      "cell_type": "code",
      "execution_count": null,
      "metadata": {
        "colab": {
          "base_uri": "https://localhost:8080/"
        },
        "id": "V_fDzDIVNHqN",
        "outputId": "479e5a96-54e1-48d4-e571-848307a59ae0"
      },
      "outputs": [],
      "source": [
        "plot_silu_256_05_05 = Error3D(data_path, \"silu_emax_256_05_05\", \"PAc-SiLU (256)\", best_x_min, best_x_max, approx_silu, 256, -5.75, -5.25, 5.25, 5.75, 50)"
      ]
    },
    {
      "cell_type": "code",
      "execution_count": null,
      "metadata": {
        "colab": {
          "base_uri": "https://localhost:8080/",
          "height": 1000
        },
        "id": "2sIjhHDiNHqN",
        "outputId": "35d33207-4a18-4dc1-b2a1-019a2e985926"
      },
      "outputs": [],
      "source": [
        "plot_silu_256_05_05.plot_combined_error()\n",
        "plot_silu_256_05_05.plot_max_error()\n",
        "plot_silu_256_05_05.plot_auc()"
      ]
    }
  ],
  "metadata": {
    "colab": {
      "machine_shape": "hm",
      "provenance": []
    },
    "kernelspec": {
      "display_name": "Python 3",
      "name": "python3"
    },
    "language_info": {
      "codemirror_mode": {
        "name": "ipython",
        "version": 3
      },
      "file_extension": ".py",
      "mimetype": "text/x-python",
      "name": "python",
      "nbconvert_exporter": "python",
      "pygments_lexer": "ipython3",
      "version": "3.11.5"
    }
  },
  "nbformat": 4,
  "nbformat_minor": 0
}
