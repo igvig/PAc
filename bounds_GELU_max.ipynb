{
  "cells": [
    {
      "cell_type": "code",
      "execution_count": null,
      "metadata": {
        "colab": {
          "base_uri": "https://localhost:8080/"
        },
        "id": "077s0Z23Wq6l",
        "outputId": "96615dd1-d4ac-40d4-ea0f-b1baf571160a"
      },
      "outputs": [],
      "source": [
        "import sys, os\n",
        "\n",
        "def get_env_type() -> str:\n",
        "    '''\n",
        "    Get the environment type where the code is running.\n",
        "\n",
        "    Returns:\n",
        "    - 'kaggle' if running on Kaggle\n",
        "    - 'google.colab' if running on Google Colab\n",
        "    - 'local' if running on local environment\n",
        "    '''\n",
        "    if 'KAGGLE_KERNEL_RUN_TYPE' in os.environ:\n",
        "        return 'kaggle'\n",
        "    elif 'google.colab' in sys.modules:\n",
        "        return 'google.colab'\n",
        "    else:   # Running on local environment\n",
        "        return 'local'\n"
      ]
    },
    {
      "cell_type": "code",
      "execution_count": null,
      "metadata": {
        "colab": {
          "base_uri": "https://localhost:8080/"
        },
        "id": "LisFm8yQT-u4",
        "outputId": "3d7cb936-79d7-4bc5-8a0f-2cb22e604ab6"
      },
      "outputs": [],
      "source": [
        "env_type=get_env_type()\n",
        "match env_type:\n",
        "    case 'kaggle':\n",
        "        raise ValueError('This notebook is not designed to run on Kaggle.')\n",
        "    case 'google.colab':\n",
        "        # Setup the data path\n",
        "        from google.colab import drive\n",
        "        drive.mount('/content/drive')\n",
        "        data_path = '/content/drive/MyDrive/data/PAc/bounds/'\n",
        "        # Load the custom library\n",
        "        !wget https://raw.githubusercontent.com/igvig/PAc/main/PAc_optimal_bounds.py\n",
        "        %pip install pyswarms -q\n",
        "    case 'local':\n",
        "        data_path = \"C:/Users/igorv/OneDrive/DL/PAc/\"\n",
        "    case _:\n",
        "        raise ValueError(f'Unknown environment type: {get_env_type()}')\n",
        "\n",
        "\n",
        "print(f'Running on {env_type}')\n",
        "\n",
        "from PAc_optimal_bounds import *\n",
        "print('Custom library loaded successfully')\n",
        "print_versions_and_GPU()\n",
        "\n"
      ]
    },
    {
      "cell_type": "code",
      "execution_count": null,
      "metadata": {
        "id": "v_F18zt1NHqL"
      },
      "outputs": [],
      "source": [
        "import tensorflow as tf\n",
        "\n",
        "approx = PAc_Approximator(\n",
        "    func=lambda x: tf.nn.gelu(x).numpy(),\n",
        "    func_low=lambda x: 0,\n",
        "    func_high=lambda x: x)\n"
      ]
    },
    {
      "cell_type": "code",
      "execution_count": null,
      "metadata": {
        "colab": {
          "base_uri": "https://localhost:8080/"
        },
        "id": "OR2reSx8NHqM",
        "outputId": "7ebac10a-c3bc-4352-d6af-7c8daa91c36b"
      },
      "outputs": [],
      "source": [
        "for sz in [16, 32, 64, 128, 256, 512, 1024, 2048, 4096]:\n",
        "    multi_opt_max_runner(data_path, f'gelu_emax_{sz}', approx.approx_max_e_swarm, approx, n=sz, num_runs=5, max_iter=1000, sig_digits=4, patience=30)"
      ]
    },
    {
      "cell_type": "code",
      "execution_count": null,
      "metadata": {
        "colab": {
          "base_uri": "https://localhost:8080/"
        },
        "id": "5LVwaAByNHqM",
        "outputId": "b4ea68aa-59dd-4794-e843-3219d319288b"
      },
      "outputs": [],
      "source": [
        "engine = PSOEngine2D()\n",
        "engine.optimize(approx.approx_max_e_swarm, max_iter=1000, sig_digits=5, patience=50, n=256)"
      ]
    },
    {
      "cell_type": "code",
      "execution_count": null,
      "metadata": {
        "colab": {
          "base_uri": "https://localhost:8080/",
          "height": 735
        },
        "id": "7sSIsURNNHqM",
        "outputId": "d18c3ef8-3eb1-4adc-f224-38db15684d7e"
      },
      "outputs": [],
      "source": [
        "from pyswarms.utils.plotters import plot_cost_history, plot_contour, plot_surface\n",
        "import matplotlib.pyplot as plt\n",
        "\n",
        "plot_cost_history(cost_history=engine.optimizer.cost_history)"
      ]
    },
    {
      "cell_type": "code",
      "execution_count": null,
      "metadata": {
        "id": "V9OfBc8TNHqM"
      },
      "outputs": [],
      "source": [
        "best_x_min, best_x_max = engine.best_pos[0], engine.best_pos[1]\n"
      ]
    },
    {
      "cell_type": "code",
      "execution_count": null,
      "metadata": {
        "colab": {
          "base_uri": "https://localhost:8080/"
        },
        "id": "cJVcy18SNHqM",
        "outputId": "8b4dcfbe-8ba9-491e-cfdd-57c0cde42af6"
      },
      "outputs": [],
      "source": [
        "plot_gelu_256_10_10 = Error3D(data_path, \"gelu_emax_256_10_10\", \"PAc-GELU (256)\", best_x_min, best_x_max, approx, 256, -10., 0., 0., 10., 50)"
      ]
    },
    {
      "cell_type": "code",
      "execution_count": null,
      "metadata": {
        "colab": {
          "base_uri": "https://localhost:8080/",
          "height": 1000
        },
        "id": "8t1mx8ZYNHqN",
        "outputId": "3e1ddb7c-023c-432f-c9ad-d318eb1cdb4a"
      },
      "outputs": [],
      "source": [
        "plot_gelu_256_10_10.plot_combined_error()\n",
        "plot_gelu_256_10_10.plot_max_error()\n",
        "plot_gelu_256_10_10.plot_auc()"
      ]
    },
    {
      "cell_type": "code",
      "execution_count": null,
      "metadata": {
        "colab": {
          "base_uri": "https://localhost:8080/"
        },
        "id": "PVvjIkmXNHqN",
        "outputId": "1fa1c9dc-d7f2-44a7-9b10-487345d1f9f9"
      },
      "outputs": [],
      "source": [
        "plot_gelu_256_2_2 = Error3D(data_path, \"gelu_emax_256_2_2\", \"PAc-GELU (256)\", best_x_min, best_x_max, approx, 256, -6.5, -4.5, 4.5, 6.5, 50)"
      ]
    },
    {
      "cell_type": "code",
      "execution_count": null,
      "metadata": {
        "colab": {
          "base_uri": "https://localhost:8080/",
          "height": 1000
        },
        "id": "vs_ghdDcNHqN",
        "outputId": "741bd81a-99cd-4639-c450-0d41bd10304d"
      },
      "outputs": [],
      "source": [
        "plot_gelu_256_2_2.plot_combined_error()\n",
        "plot_gelu_256_2_2.plot_max_error()\n",
        "plot_gelu_256_2_2.plot_auc()"
      ]
    },
    {
      "cell_type": "code",
      "execution_count": null,
      "metadata": {
        "colab": {
          "base_uri": "https://localhost:8080/"
        },
        "id": "V_fDzDIVNHqN",
        "outputId": "479e5a96-54e1-48d4-e571-848307a59ae0"
      },
      "outputs": [],
      "source": [
        "plot_gelu_256_05_05 = Error3D(data_path, \"gelu_emax_256_05_05\", \"PAc-GELU (256)\", best_x_min, best_x_max, approx, 256, -5.75, -5.25, 5.25, 5.75, 50)"
      ]
    },
    {
      "cell_type": "code",
      "execution_count": null,
      "metadata": {
        "colab": {
          "base_uri": "https://localhost:8080/",
          "height": 1000
        },
        "id": "2sIjhHDiNHqN",
        "outputId": "35d33207-4a18-4dc1-b2a1-019a2e985926"
      },
      "outputs": [],
      "source": [
        "plot_gelu_256_05_05.plot_combined_error()\n",
        "plot_gelu_256_05_05.plot_max_error()\n",
        "plot_gelu_256_05_05.plot_auc()"
      ]
    }
  ],
  "metadata": {
    "colab": {
      "machine_shape": "hm",
      "provenance": []
    },
    "kernelspec": {
      "display_name": "Python 3",
      "name": "python3"
    },
    "language_info": {
      "codemirror_mode": {
        "name": "ipython",
        "version": 3
      },
      "file_extension": ".py",
      "mimetype": "text/x-python",
      "name": "python",
      "nbconvert_exporter": "python",
      "pygments_lexer": "ipython3",
      "version": "3.11.5"
    }
  },
  "nbformat": 4,
  "nbformat_minor": 0
}
