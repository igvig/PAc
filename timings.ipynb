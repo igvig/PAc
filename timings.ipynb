{
 "cells": [
  {
   "cell_type": "code",
   "execution_count": null,
   "metadata": {},
   "outputs": [],
   "source": [
    "\n"
   ]
  },
  {
   "cell_type": "code",
   "execution_count": 1,
   "metadata": {},
   "outputs": [
    {
     "name": "stdout",
     "output_type": "stream",
     "text": [
      "Read 131072 random float32's from file\n"
     ]
    }
   ],
   "source": [
    "import numpy as np\n",
    "# Try to read a list of 2^17 np.float32 numbers from local file 'random_2_17.npy' into a numpy array, otherwise, generate the numbers and save them to the file.\n",
    "\n",
    "# Read the file\n",
    "try:\n",
    "    data = np.fromfile('random_2_17.npy', dtype=np.float32)\n",
    "    print(f\"Read {data.size} random float32's from file\")\n",
    "except FileNotFoundError:\n",
    "    # Generate the data and save to file\n",
    "    data = np.random.normal(scale=2, size=2**17).astype(np.float32)\n",
    "    data.tofile('random_2_17.npy')\n",
    "    print(f\"Generated {data.size} float32's and saved to file\")\n"
   ]
  },
  {
   "cell_type": "code",
   "execution_count": 2,
   "metadata": {},
   "outputs": [],
   "source": [
    "import tensorflow as tf\n",
    "\n",
    "from PAc import PAc\n",
    "\n",
    "# Create a PAc object for the swish activation function\n",
    "PAc_swish_256 = PAc(\n",
    "    func=tf.nn.swish,\n",
    "    func_low=lambda x: 0.,\n",
    "    func_high=lambda x: x,\n",
    "    n=256,\n",
    "    x_low=-5.44526745655218,\n",
    "    x_high=5.45001058225761\n",
    ")\n"
   ]
  },
  {
   "cell_type": "code",
   "execution_count": 3,
   "metadata": {},
   "outputs": [],
   "source": [
    "import pandas as pd\n",
    "from timeit import default_timer as timer\n",
    "\n",
    "df = pd.DataFrame({\n",
    "    'method': pd.Series(dtype='str'),\n",
    "    'tensor size': pd.Series(dtype='int'),\n",
    "    'experiment number': pd.Series(dtype='int'),\n",
    "    'elapsed time': pd.Series(dtype='float'),\n",
    "    'inner iterations': pd.Series(dtype='int')\n",
    "})"
   ]
  },
  {
   "cell_type": "code",
   "execution_count": 6,
   "metadata": {},
   "outputs": [],
   "source": [
    "from typing import Callable\n",
    "\n",
    "def benchmark_float(func: Callable[[float], float], data: np.ndarray, sizes: list[int]=[1, 8, 64, 512], experiments:int=5, inner_iterations:int=100):\n",
    "    for size in sizes:\n",
    "        for experiment in range(experiments):\n",
    "            print(f\"Experiment {size}-{experiment}\", end=' ')\n",
    "\n",
    "            np.random.seed(42)\n",
    "            start_n = np.random.randint(0, data.size - size)\n",
    "            start = timer()\n",
    "            for _ in range(inner_iterations):\n",
    "                for i in range(size):\n",
    "                    func(data[i])\n",
    "            elapsed = timer() - start\n",
    "            print(f\"Elapsed time: {elapsed/(inner_iterations * size):.3e}s\")"
   ]
  },
  {
   "cell_type": "code",
   "execution_count": 7,
   "metadata": {},
   "outputs": [
    {
     "name": "stdout",
     "output_type": "stream",
     "text": [
      "Experiment 1-0 Elapsed time: 1.059e-05s\n",
      "Experiment 1-1 Elapsed time: 8.980e-06s\n",
      "Experiment 1-2 Elapsed time: 9.249e-06s\n",
      "Experiment 1-3 Elapsed time: 8.059e-06s\n",
      "Experiment 1-4 Elapsed time: 5.104e-06s\n",
      "Experiment 8-0 Elapsed time: 6.250e-06s\n",
      "Experiment 8-1 Elapsed time: 5.855e-06s\n",
      "Experiment 8-2 Elapsed time: 6.268e-06s\n",
      "Experiment 8-3 Elapsed time: 5.475e-06s\n",
      "Experiment 8-4 Elapsed time: 5.101e-06s\n",
      "Experiment 64-0 Elapsed time: 5.410e-06s\n",
      "Experiment 64-1 Elapsed time: 5.765e-06s\n",
      "Experiment 64-2 Elapsed time: 1.812e-05s\n",
      "Experiment 64-3 Elapsed time: 6.365e-06s\n",
      "Experiment 64-4 Elapsed time: 5.531e-06s\n",
      "Experiment 512-0 Elapsed time: 5.479e-06s\n",
      "Experiment 512-1 Elapsed time: 5.591e-06s\n",
      "Experiment 512-2 Elapsed time: 5.138e-06s\n",
      "Experiment 512-3 Elapsed time: 5.779e-06s\n",
      "Experiment 512-4 Elapsed time: 5.166e-06s\n",
      "Experiment 1-0 Elapsed time: 3.790e-04s\n",
      "Experiment 1-1 Elapsed time: 3.554e-04s\n",
      "Experiment 1-2 Elapsed time: 3.160e-04s\n",
      "Experiment 1-3 Elapsed time: 3.704e-04s\n",
      "Experiment 1-4 Elapsed time: 3.650e-04s\n",
      "Experiment 8-0 Elapsed time: 3.405e-04s\n",
      "Experiment 8-1 Elapsed time: 3.130e-04s\n",
      "Experiment 8-2 Elapsed time: 3.117e-04s\n",
      "Experiment 8-3 Elapsed time: 3.385e-04s\n",
      "Experiment 8-4 Elapsed time: 3.386e-04s\n",
      "Experiment 64-0 Elapsed time: 3.198e-04s\n",
      "Experiment 64-1 Elapsed time: 3.151e-04s\n",
      "Experiment 64-2 Elapsed time: 3.173e-04s\n",
      "Experiment 64-3 Elapsed time: 3.414e-04s\n",
      "Experiment 64-4 Elapsed time: 3.533e-04s\n",
      "Experiment 512-0 Elapsed time: 3.249e-04s\n",
      "Experiment 512-1 Elapsed time: 3.144e-04s\n",
      "Experiment 512-2 Elapsed time: 3.190e-04s\n",
      "Experiment 512-3 Elapsed time: 3.134e-04s\n",
      "Experiment 512-4 Elapsed time: 3.169e-04s\n"
     ]
    }
   ],
   "source": [
    "benchmark_float(PAc_swish_256.pac, data, sizes=[1, 8, 64, 512], experiments=5, inner_iterations=100)\n",
    "benchmark_float(tf.nn.swish, data, sizes=[1, 8, 64, 512], experiments=5, inner_iterations=100)"
   ]
  },
  {
   "cell_type": "code",
   "execution_count": null,
   "metadata": {},
   "outputs": [],
   "source": [
    "import tensorflow as tf\n",
    "\n",
    "from PAc import PAc\n",
    "\n",
    "# Create a PAc object for the gelu activation function\n",
    "PAc_gelu_256 = PAc(\n",
    "    func=tf.nn.gelu,\n",
    "    func_low=lambda x: 0.,\n",
    "    func_high=lambda x: x,\n",
    "    n=256,\n",
    "    x_low=-5.44526745655218,\n",
    "    x_high=5.45001058225761\n",
    ")\n"
   ]
  },
  {
   "cell_type": "code",
   "execution_count": null,
   "metadata": {},
   "outputs": [],
   "source": [
    "from typing import Callable\n",
    "\n",
    "def benchmark(func: Callable[[tf.Tensor], tf.Tensor], name: str, df: pd.DataFrame, data: np.ndarray, sizes: list[int] = [1, 8, 64, 512, 4096], experiments: int = 5, inner_iterations: int = 1000):\n",
    "    for s in sizes:\n",
    "        for exp_num in range(experiments):\n",
    "            print(f\"Experiment {s}-{exp_num}\", end=' ')\n",
    "\n",
    "            np.random.seed(42)\n",
    "            start_n = np.random.randint(0, data.size - s)\n",
    "            data_n = data[start_n:start_n + s]\n",
    "            tensor = tf.convert_to_tensor(data_n, dtype=tf.float32)\n",
    "\n",
    "            # start the nanosecond timer\n",
    "            start = timer()\n",
    "\n",
    "            for i in range(inner_iterations):\n",
    "                _ = func(tensor)\n",
    "\n",
    "            # stop the nanosecond timer\n",
    "            elapsed = timer() - start\n",
    "            print(f\"elapsed time per : {elapsed / (inner_iterations * s)} s\")\n",
    "\n",
    "            df.loc[len(df.index)] = [name, s, exp_num, elapsed, inner_iterations]\n"
   ]
  },
  {
   "cell_type": "code",
   "execution_count": null,
   "metadata": {},
   "outputs": [],
   "source": [
    "benchmark(PAc_swish_256, \"PAc'ed swish (256)\", df, data, sizes=[1, 8, 64, 512], inner_iterations=100)"
   ]
  },
  {
   "cell_type": "code",
   "execution_count": null,
   "metadata": {},
   "outputs": [],
   "source": [
    "df"
   ]
  },
  {
   "cell_type": "code",
   "execution_count": null,
   "metadata": {},
   "outputs": [],
   "source": [
    "benchmark(tf.nn.swish, \"swish\", df, data, sizes=[1, 8, 64, 512], inner_iterations=100)"
   ]
  },
  {
   "cell_type": "code",
   "execution_count": null,
   "metadata": {},
   "outputs": [],
   "source": [
    "df[df['tensor size']==1]"
   ]
  }
 ],
 "metadata": {
  "kernelspec": {
   "display_name": "base",
   "language": "python",
   "name": "python3"
  },
  "language_info": {
   "codemirror_mode": {
    "name": "ipython",
    "version": 3
   },
   "file_extension": ".py",
   "mimetype": "text/x-python",
   "name": "python",
   "nbconvert_exporter": "python",
   "pygments_lexer": "ipython3",
   "version": "3.11.5"
  }
 },
 "nbformat": 4,
 "nbformat_minor": 2
}
